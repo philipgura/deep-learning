{
 "cells": [
  {
   "cell_type": "markdown",
   "metadata": {
    "colab_type": "text",
    "id": "D7tqLMoKF6uq"
   },
   "source": [
    "Deep Learning\n",
    "=============\n",
    "\n",
    "Assignment 5\n",
    "------------\n",
    "\n",
    "The goal of this assignment is to train a skip-gram model over [Text8](http://mattmahoney.net/dc/textdata) data."
   ]
  },
  {
   "cell_type": "code",
   "execution_count": 1,
   "metadata": {
    "cellView": "both",
    "colab": {
     "autoexec": {
      "startup": false,
      "wait_interval": 0
     }
    },
    "colab_type": "code",
    "collapsed": true,
    "id": "0K1ZyLn04QZf"
   },
   "outputs": [],
   "source": [
    "# These are all the modules we'll be using later. Make sure you can import them\n",
    "# before proceeding further.\n",
    "from __future__ import print_function\n",
    "import collections\n",
    "import math\n",
    "import numpy as np\n",
    "import os\n",
    "import random\n",
    "import tensorflow as tf\n",
    "import zipfile\n",
    "from matplotlib import pylab\n",
    "from six.moves import range\n",
    "from six.moves.urllib.request import urlretrieve\n",
    "from sklearn.manifold import TSNE"
   ]
  },
  {
   "cell_type": "markdown",
   "metadata": {
    "colab_type": "text",
    "id": "aCjPJE944bkV"
   },
   "source": [
    "Download the data from the source website if necessary."
   ]
  },
  {
   "cell_type": "code",
   "execution_count": 2,
   "metadata": {
    "cellView": "both",
    "colab": {
     "autoexec": {
      "startup": false,
      "wait_interval": 0
     },
     "output_extras": [
      {
       "item_id": 1
      }
     ]
    },
    "colab_type": "code",
    "collapsed": false,
    "executionInfo": {
     "elapsed": 14640,
     "status": "ok",
     "timestamp": 1445964482948,
     "user": {
      "color": "#1FA15D",
      "displayName": "Vincent Vanhoucke",
      "isAnonymous": false,
      "isMe": true,
      "permissionId": "05076109866853157986",
      "photoUrl": "//lh6.googleusercontent.com/-cCJa7dTDcgQ/AAAAAAAAAAI/AAAAAAAACgw/r2EZ_8oYer4/s50-c-k-no/photo.jpg",
      "sessionId": "2f1ffade4c9f20de",
      "userId": "102167687554210253930"
     },
     "user_tz": 420
    },
    "id": "RJ-o3UBUFtCw",
    "outputId": "c4ec222c-80b5-4298-e635-93ca9f79c3b7"
   },
   "outputs": [
    {
     "name": "stdout",
     "output_type": "stream",
     "text": [
      "Found and verified text8.zip\n"
     ]
    }
   ],
   "source": [
    "url = 'http://mattmahoney.net/dc/'\n",
    "\n",
    "def maybe_download(filename, expected_bytes):\n",
    "  \"\"\"Download a file if not present, and make sure it's the right size.\"\"\"\n",
    "  if not os.path.exists(filename):\n",
    "    filename, _ = urlretrieve(url + filename, filename)\n",
    "  statinfo = os.stat(filename)\n",
    "  if statinfo.st_size == expected_bytes:\n",
    "    print('Found and verified %s' % filename)\n",
    "  else:\n",
    "    print(statinfo.st_size)\n",
    "    raise Exception(\n",
    "      'Failed to verify ' + filename + '. Can you get to it with a browser?')\n",
    "  return filename\n",
    "\n",
    "filename = maybe_download('text8.zip', 31344016)"
   ]
  },
  {
   "cell_type": "markdown",
   "metadata": {
    "colab_type": "text",
    "id": "Zqz3XiqI4mZT"
   },
   "source": [
    "Read the data into a string."
   ]
  },
  {
   "cell_type": "code",
   "execution_count": 3,
   "metadata": {
    "cellView": "both",
    "colab": {
     "autoexec": {
      "startup": false,
      "wait_interval": 0
     },
     "output_extras": [
      {
       "item_id": 1
      }
     ]
    },
    "colab_type": "code",
    "collapsed": false,
    "executionInfo": {
     "elapsed": 28844,
     "status": "ok",
     "timestamp": 1445964497165,
     "user": {
      "color": "#1FA15D",
      "displayName": "Vincent Vanhoucke",
      "isAnonymous": false,
      "isMe": true,
      "permissionId": "05076109866853157986",
      "photoUrl": "//lh6.googleusercontent.com/-cCJa7dTDcgQ/AAAAAAAAAAI/AAAAAAAACgw/r2EZ_8oYer4/s50-c-k-no/photo.jpg",
      "sessionId": "2f1ffade4c9f20de",
      "userId": "102167687554210253930"
     },
     "user_tz": 420
    },
    "id": "Mvf09fjugFU_",
    "outputId": "e3a928b4-1645-4fe8-be17-fcf47de5716d"
   },
   "outputs": [
    {
     "name": "stdout",
     "output_type": "stream",
     "text": [
      "Data size 17005207\n"
     ]
    }
   ],
   "source": [
    "def read_data(filename):\n",
    "  f = zipfile.ZipFile(filename)\n",
    "  for name in f.namelist():\n",
    "    return tf.compat.as_str(f.read(name)).split()\n",
    "  f.close()\n",
    "  \n",
    "words = read_data(filename)\n",
    "print('Data size %d' % len(words))"
   ]
  },
  {
   "cell_type": "markdown",
   "metadata": {
    "colab_type": "text",
    "id": "Zdw6i4F8glpp"
   },
   "source": [
    "Build the dictionary and replace rare words with UNK token."
   ]
  },
  {
   "cell_type": "code",
   "execution_count": 4,
   "metadata": {
    "cellView": "both",
    "colab": {
     "autoexec": {
      "startup": false,
      "wait_interval": 0
     },
     "output_extras": [
      {
       "item_id": 1
      }
     ]
    },
    "colab_type": "code",
    "collapsed": false,
    "executionInfo": {
     "elapsed": 28849,
     "status": "ok",
     "timestamp": 1445964497178,
     "user": {
      "color": "#1FA15D",
      "displayName": "Vincent Vanhoucke",
      "isAnonymous": false,
      "isMe": true,
      "permissionId": "05076109866853157986",
      "photoUrl": "//lh6.googleusercontent.com/-cCJa7dTDcgQ/AAAAAAAAAAI/AAAAAAAACgw/r2EZ_8oYer4/s50-c-k-no/photo.jpg",
      "sessionId": "2f1ffade4c9f20de",
      "userId": "102167687554210253930"
     },
     "user_tz": 420
    },
    "id": "gAL1EECXeZsD",
    "outputId": "3fb4ecd1-df67-44b6-a2dc-2291730970b2"
   },
   "outputs": [
    {
     "name": "stdout",
     "output_type": "stream",
     "text": [
      "Most common words (+UNK) [['UNK', 418391], ('the', 1061396), ('of', 593677), ('and', 416629), ('one', 411764)]\n",
      "Sample data [5239, 3084, 12, 6, 195, 2, 3137, 46, 59, 156]\n"
     ]
    }
   ],
   "source": [
    "vocabulary_size = 50000\n",
    "\n",
    "def build_dataset(words):\n",
    "  count = [['UNK', -1]]\n",
    "  count.extend(collections.Counter(words).most_common(vocabulary_size - 1))\n",
    "  dictionary = dict()\n",
    "  for word, _ in count:\n",
    "    dictionary[word] = len(dictionary)\n",
    "  data = list()\n",
    "  unk_count = 0\n",
    "  for word in words:\n",
    "    if word in dictionary:\n",
    "      index = dictionary[word]\n",
    "    else:\n",
    "      index = 0  # dictionary['UNK']\n",
    "      unk_count = unk_count + 1\n",
    "    data.append(index)\n",
    "  count[0][1] = unk_count\n",
    "  reverse_dictionary = dict(zip(dictionary.values(), dictionary.keys())) \n",
    "  return data, count, dictionary, reverse_dictionary\n",
    "\n",
    "data, count, dictionary, reverse_dictionary = build_dataset(words)\n",
    "print('Most common words (+UNK)', count[:5])\n",
    "print('Sample data', data[:10])\n",
    "del words  # Hint to reduce memory."
   ]
  },
  {
   "cell_type": "markdown",
   "metadata": {
    "colab_type": "text",
    "id": "lFwoyygOmWsL"
   },
   "source": [
    "Function to generate a training batch for the skip-gram model."
   ]
  },
  {
   "cell_type": "code",
   "execution_count": 5,
   "metadata": {
    "cellView": "both",
    "colab": {
     "autoexec": {
      "startup": false,
      "wait_interval": 0
     },
     "output_extras": [
      {
       "item_id": 1
      }
     ]
    },
    "colab_type": "code",
    "collapsed": false,
    "executionInfo": {
     "elapsed": 113,
     "status": "ok",
     "timestamp": 1445964901989,
     "user": {
      "color": "#1FA15D",
      "displayName": "Vincent Vanhoucke",
      "isAnonymous": false,
      "isMe": true,
      "permissionId": "05076109866853157986",
      "photoUrl": "//lh6.googleusercontent.com/-cCJa7dTDcgQ/AAAAAAAAAAI/AAAAAAAACgw/r2EZ_8oYer4/s50-c-k-no/photo.jpg",
      "sessionId": "2f1ffade4c9f20de",
      "userId": "102167687554210253930"
     },
     "user_tz": 420
    },
    "id": "w9APjA-zmfjV",
    "outputId": "67cccb02-cdaf-4e47-d489-43bcc8d57bb8"
   },
   "outputs": [
    {
     "name": "stdout",
     "output_type": "stream",
     "text": [
      "data: ['anarchism', 'originated', 'as', 'a', 'term', 'of', 'abuse', 'first']\n",
      "\n",
      "with num_skips = 2 and skip_window = 1:\n",
      "    batch: ['originated', 'originated', 'as', 'as', 'a', 'a', 'term', 'term']\n",
      "    labels: ['anarchism', 'as', 'a', 'originated', 'term', 'as', 'a', 'of']\n",
      "\n",
      "with num_skips = 4 and skip_window = 2:\n",
      "    batch: ['as', 'as', 'as', 'as', 'a', 'a', 'a', 'a']\n",
      "    labels: ['a', 'originated', 'term', 'anarchism', 'term', 'of', 'originated', 'as']\n"
     ]
    }
   ],
   "source": [
    "data_index = 0\n",
    "\n",
    "def generate_batch(batch_size, num_skips, skip_window):\n",
    "  global data_index\n",
    "  assert batch_size % num_skips == 0\n",
    "  assert num_skips <= 2 * skip_window\n",
    "  batch = np.ndarray(shape=(batch_size), dtype=np.int32)\n",
    "  labels = np.ndarray(shape=(batch_size, 1), dtype=np.int32)\n",
    "  span = 2 * skip_window + 1 # [ skip_window target skip_window ]\n",
    "  buffer = collections.deque(maxlen=span)\n",
    "  for _ in range(span):\n",
    "    buffer.append(data[data_index])\n",
    "    data_index = (data_index + 1) % len(data)\n",
    "  for i in range(batch_size // num_skips):\n",
    "    target = skip_window  # target label at the center of the buffer\n",
    "    targets_to_avoid = [ skip_window ]\n",
    "    for j in range(num_skips):\n",
    "      while target in targets_to_avoid:\n",
    "        target = random.randint(0, span - 1)\n",
    "      targets_to_avoid.append(target)\n",
    "      batch[i * num_skips + j] = buffer[skip_window]\n",
    "      labels[i * num_skips + j, 0] = buffer[target]\n",
    "    buffer.append(data[data_index])\n",
    "    data_index = (data_index + 1) % len(data)\n",
    "  return batch, labels\n",
    "\n",
    "print('data:', [reverse_dictionary[di] for di in data[:8]])\n",
    "\n",
    "for num_skips, skip_window in [(2, 1), (4, 2)]:\n",
    "    data_index = 0\n",
    "    batch, labels = generate_batch(batch_size=8, num_skips=num_skips, skip_window=skip_window)\n",
    "    print('\\nwith num_skips = %d and skip_window = %d:' % (num_skips, skip_window))\n",
    "    print('    batch:', [reverse_dictionary[bi] for bi in batch])\n",
    "    print('    labels:', [reverse_dictionary[li] for li in labels.reshape(8)])"
   ]
  },
  {
   "cell_type": "markdown",
   "metadata": {
    "colab_type": "text",
    "id": "Ofd1MbBuwiva"
   },
   "source": [
    "Train a skip-gram model."
   ]
  },
  {
   "cell_type": "code",
   "execution_count": 6,
   "metadata": {
    "cellView": "both",
    "colab": {
     "autoexec": {
      "startup": false,
      "wait_interval": 0
     }
    },
    "colab_type": "code",
    "collapsed": true,
    "id": "8pQKsV4Vwlzy"
   },
   "outputs": [],
   "source": [
    "batch_size = 128\n",
    "embedding_size = 128 # Dimension of the embedding vector.\n",
    "skip_window = 1 # How many words to consider left and right.\n",
    "num_skips = 2 # How many times to reuse an input to generate a label.\n",
    "# We pick a random validation set to sample nearest neighbors. here we limit the\n",
    "# validation samples to the words that have a low numeric ID, which by\n",
    "# construction are also the most frequent. \n",
    "valid_size = 16 # Random set of words to evaluate similarity on.\n",
    "valid_window = 100 # Only pick dev samples in the head of the distribution.\n",
    "valid_examples = np.array(random.sample(range(valid_window), valid_size))\n",
    "num_sampled = 64 # Number of negative examples to sample.\n",
    "\n",
    "graph = tf.Graph()\n",
    "\n",
    "with graph.as_default(), tf.device('/cpu:0'):\n",
    "\n",
    "  # Input data.\n",
    "  train_dataset = tf.placeholder(tf.int32, shape=[batch_size])\n",
    "  train_labels = tf.placeholder(tf.int32, shape=[batch_size, 1])\n",
    "  valid_dataset = tf.constant(valid_examples, dtype=tf.int32)\n",
    "  \n",
    "  # Variables.\n",
    "  embeddings = tf.Variable(\n",
    "    tf.random_uniform([vocabulary_size, embedding_size], -1.0, 1.0))\n",
    "  softmax_weights = tf.Variable(\n",
    "    tf.truncated_normal([vocabulary_size, embedding_size],\n",
    "                         stddev=1.0 / math.sqrt(embedding_size)))\n",
    "  softmax_biases = tf.Variable(tf.zeros([vocabulary_size]))\n",
    "  \n",
    "  # Model.\n",
    "  # Look up embeddings for inputs.\n",
    "  embed = tf.nn.embedding_lookup(embeddings, train_dataset)\n",
    "  # Compute the softmax loss, using a sample of the negative labels each time.\n",
    "  loss = tf.reduce_mean(\n",
    "    tf.nn.sampled_softmax_loss(softmax_weights, softmax_biases, embed,\n",
    "                               train_labels, num_sampled, vocabulary_size))\n",
    "\n",
    "  # Optimizer.\n",
    "  optimizer = tf.train.AdagradOptimizer(1.0).minimize(loss)\n",
    "  \n",
    "  # Compute the similarity between minibatch examples and all embeddings.\n",
    "  # We use the cosine distance:\n",
    "  norm = tf.sqrt(tf.reduce_sum(tf.square(embeddings), 1, keep_dims=True))\n",
    "  normalized_embeddings = embeddings / norm\n",
    "  valid_embeddings = tf.nn.embedding_lookup(\n",
    "    normalized_embeddings, valid_dataset)\n",
    "  similarity = tf.matmul(valid_embeddings, tf.transpose(normalized_embeddings))"
   ]
  },
  {
   "cell_type": "code",
   "execution_count": 7,
   "metadata": {
    "cellView": "both",
    "colab": {
     "autoexec": {
      "startup": false,
      "wait_interval": 0
     },
     "output_extras": [
      {
       "item_id": 23
      },
      {
       "item_id": 48
      },
      {
       "item_id": 61
      }
     ]
    },
    "colab_type": "code",
    "collapsed": false,
    "executionInfo": {
     "elapsed": 436189,
     "status": "ok",
     "timestamp": 1445965429787,
     "user": {
      "color": "#1FA15D",
      "displayName": "Vincent Vanhoucke",
      "isAnonymous": false,
      "isMe": true,
      "permissionId": "05076109866853157986",
      "photoUrl": "//lh6.googleusercontent.com/-cCJa7dTDcgQ/AAAAAAAAAAI/AAAAAAAACgw/r2EZ_8oYer4/s50-c-k-no/photo.jpg",
      "sessionId": "2f1ffade4c9f20de",
      "userId": "102167687554210253930"
     },
     "user_tz": 420
    },
    "id": "1bQFGceBxrWW",
    "outputId": "5ebd6d9a-33c6-4bcd-bf6d-252b0b6055e4"
   },
   "outputs": [
    {
     "name": "stdout",
     "output_type": "stream",
     "text": [
      "Initialized\n",
      "Average loss at step 0: 8.096351\n",
      "Nearest to five: land, personages, tyne, dynastic, claiming, alia, noether, thatcher,\n",
      "Nearest to such: parks, reservation, cbs, escuela, amplifying, piranha, gunmen, mongolian,\n",
      "Nearest to so: overlords, illa, ronaldo, hee, yves, deacon, canonically, unremarkable,\n",
      "Nearest to in: pounding, hypothesised, ayyubid, dismisses, ginsberg, collaborating, cleanly, disparaging,\n",
      "Nearest to not: distillers, joe, severing, arleigh, bradshaw, cpm, unspecified, hindsight,\n",
      "Nearest to states: location, royce, botham, gamete, deductions, golden, myasthenia, chogm,\n",
      "Nearest to eight: topless, assist, fleshy, shafts, lockheed, munster, lister, locus,\n",
      "Nearest to he: outkast, consequently, circulated, risings, infinitesimal, utamaro, croatian, czech,\n",
      "Nearest to over: hubert, outcast, portrayal, capitalist, containment, plenum, framed, correspond,\n",
      "Nearest to d: stalin, barat, haven, por, salieri, casein, grinder, cbm,\n",
      "Nearest to of: hotspur, ritualistic, mujahedin, harness, disruptive, influence, gurmukhi, iers,\n",
      "Nearest to by: riso, aphorisms, bernhard, angel, kemp, jumps, vci, moonshine,\n",
      "Nearest to while: bacardi, africana, unauthorized, katy, lander, elbing, quranic, franc,\n",
      "Nearest to and: incidents, flatly, rightist, daniels, revised, cartwright, dua, metamorphism,\n",
      "Nearest to when: widen, maxwell, succeed, use, promised, throws, unload, poly,\n",
      "Nearest to also: pneumonia, district, magnetopause, testimonies, middens, dismissal, globes, scilly,\n",
      "Average loss at step 2000: 4.348170\n",
      "Average loss at step 4000: 3.864912\n",
      "Average loss at step 6000: 3.789626\n",
      "Average loss at step 8000: 3.686222\n",
      "Average loss at step 10000: 3.615883\n",
      "Nearest to five: six, eight, four, nine, seven, three, zero, two,\n",
      "Nearest to such: well, known, crops, dickinson, informatique, hashes, mongolian, cbs,\n",
      "Nearest to so: overlords, whomever, gdi, koala, alford, bitrate, earn, wisc,\n",
      "Nearest to in: of, on, at, from, and, by, for, beacon,\n",
      "Nearest to not: it, never, nato, there, who, they, also, disinfectant,\n",
      "Nearest to states: myasthenia, royce, benedetto, egypt, benediction, kline, location, golden,\n",
      "Nearest to eight: nine, five, six, seven, four, three, zero, two,\n",
      "Nearest to he: it, she, they, episcopalian, circulated, bombay, who, not,\n",
      "Nearest to over: reserving, punishes, thwart, correspond, capitalist, framed, fiennes, containment,\n",
      "Nearest to d: stalin, barat, por, haven, phonograph, b, cbm, broadcaster,\n",
      "Nearest to of: in, for, at, ulster, throats, ejaculate, and, perigee,\n",
      "Nearest to by: was, from, with, in, bernhard, boric, deutschlands, on,\n",
      "Nearest to while: bacardi, franc, africana, like, misdiagnosed, lander, storyteller, aviation,\n",
      "Nearest to and: or, in, but, who, s, american, for, prover,\n",
      "Nearest to when: widen, succeed, throws, cherokees, loudness, promised, imran, bristles,\n",
      "Nearest to also: now, which, pneumonia, magnetopause, it, not, aykroyd, hdi,\n",
      "Average loss at step 12000: 3.601158\n",
      "Average loss at step 14000: 3.571009\n",
      "Average loss at step 16000: 3.408491\n",
      "Average loss at step 18000: 3.461336\n",
      "Average loss at step 20000: 3.539116\n",
      "Nearest to five: six, seven, eight, zero, three, four, two, nine,\n",
      "Nearest to such: known, well, these, crops, bian, nil, soyuz, usk,\n",
      "Nearest to so: overlords, laurentian, earn, advertise, nostalgia, monograph, avogadro, gdi,\n",
      "Nearest to in: at, on, from, during, by, with, and, savoie,\n",
      "Nearest to not: never, also, there, they, undergoing, it, to, nato,\n",
      "Nearest to states: myasthenia, benedetto, egypt, kwanza, us, benediction, views, mitt,\n",
      "Nearest to eight: seven, nine, six, five, four, three, two, zero,\n",
      "Nearest to he: it, she, they, who, there, audible, pilsener, soon,\n",
      "Nearest to over: capitalist, correspond, thwart, athletes, into, punishes, toil, expropriation,\n",
      "Nearest to d: b, stalin, barat, apprehension, haven, llywelyn, french, universidad,\n",
      "Nearest to of: throats, vulture, redactor, same, in, for, boer, vab,\n",
      "Nearest to by: for, advertisers, in, were, be, was, been, from,\n",
      "Nearest to while: like, franc, bacardi, storyteller, aviation, gifted, serge, and,\n",
      "Nearest to and: or, but, from, in, rquez, laminal, pueblo, petri,\n",
      "Nearest to when: if, after, where, was, throws, before, widen, forward,\n",
      "Nearest to also: which, now, frequently, not, who, never, usually, often,\n",
      "Average loss at step 22000: 3.497327\n",
      "Average loss at step 24000: 3.488572\n",
      "Average loss at step 26000: 3.485740\n",
      "Average loss at step 28000: 3.480794\n",
      "Average loss at step 30000: 3.502919\n",
      "Nearest to five: four, six, seven, eight, three, zero, nine, two,\n",
      "Nearest to such: well, known, these, racketeering, nil, crops, regarded, mathers,\n",
      "Nearest to so: overlords, monograph, too, nourished, chartres, cerberus, restricts, aap,\n",
      "Nearest to in: at, from, on, of, during, and, by, under,\n",
      "Nearest to not: there, nato, they, undergoing, never, still, you, it,\n",
      "Nearest to states: egypt, views, us, panda, chandler, myasthenia, only, benedetto,\n",
      "Nearest to eight: nine, six, seven, four, five, three, zero, two,\n",
      "Nearest to he: it, she, they, who, there, pilsener, uda, then,\n",
      "Nearest to over: into, athletes, expropriation, capitalist, faro, correspond, toil, rhotic,\n",
      "Nearest to d: b, stalin, llywelyn, circumcisions, universidad, tav, apprehension, predisposition,\n",
      "Nearest to of: in, expendable, for, from, and, snowmobile, archaeoastronomy, caricatured,\n",
      "Nearest to by: was, in, from, were, with, restraints, during, as,\n",
      "Nearest to while: like, although, and, however, though, but, were, gifted,\n",
      "Nearest to and: in, but, or, however, who, including, while, of,\n",
      "Nearest to when: if, before, after, until, where, during, was, but,\n",
      "Nearest to also: now, which, often, it, still, sometimes, there, ta,\n",
      "Average loss at step 32000: 3.502399\n",
      "Average loss at step 34000: 3.497414\n",
      "Average loss at step 36000: 3.453090\n",
      "Average loss at step 38000: 3.299577\n",
      "Average loss at step 40000: 3.431086\n",
      "Nearest to five: six, seven, four, three, eight, zero, nine, two,\n",
      "Nearest to such: well, known, these, regarded, racketeering, nil, many, synthetic,\n",
      "Nearest to so: overlords, too, nourished, cerberus, homelessness, monograph, restricts, then,\n",
      "Nearest to in: and, of, on, at, vulture, during, from, deduce,\n",
      "Nearest to not: never, they, still, also, generally, it, sometimes, often,\n",
      "Nearest to states: kingdom, us, panda, myasthenia, egypt, swarm, chandler, kline,\n",
      "Nearest to eight: nine, seven, six, four, five, three, zero, two,\n",
      "Nearest to he: she, it, they, who, there, pilsener, but, i,\n",
      "Nearest to over: into, through, capitalist, athletes, toil, between, correlation, about,\n",
      "Nearest to d: b, stalin, apprehension, UNK, haven, purdue, circumcisions, w,\n",
      "Nearest to of: in, vulture, for, from, vab, original, hotspur, iiis,\n",
      "Nearest to by: homosexual, with, was, be, from, chevrolet, advertisers, while,\n",
      "Nearest to while: although, when, though, were, however, was, where, like,\n",
      "Nearest to and: or, in, doubling, while, but, of, pomeranian, gradius,\n",
      "Nearest to when: before, if, while, until, where, after, during, was,\n",
      "Nearest to also: now, often, still, which, sometimes, usually, generally, not,\n",
      "Average loss at step 42000: 3.440942\n",
      "Average loss at step 44000: 3.457631\n",
      "Average loss at step 46000: 3.447216\n",
      "Average loss at step 48000: 3.351136\n",
      "Average loss at step 50000: 3.383683\n",
      "Nearest to five: four, eight, six, seven, three, zero, nine, two,\n",
      "Nearest to such: well, known, these, regarded, many, uncodified, racketeering, apex,\n",
      "Nearest to so: too, nourished, then, overlords, cerberus, if, sometimes, nostalgia,\n",
      "Nearest to in: during, since, on, of, until, from, reviewed, mcmanus,\n",
      "Nearest to not: never, undergoing, now, still, usually, often, simply, nato,\n",
      "Nearest to states: kingdom, us, panda, hegel, egypt, grounds, ihra, government,\n",
      "Nearest to eight: six, nine, seven, four, five, three, zero, two,\n",
      "Nearest to he: she, it, they, there, who, this, never, domini,\n",
      "Nearest to over: through, into, toil, out, accrued, about, together, sediment,\n",
      "Nearest to d: b, stalin, m, e, predisposition, f, w, haven,\n",
      "Nearest to of: and, in, vab, menander, hotspur, nighthawk, pocketed, eduke,\n",
      "Nearest to by: was, through, restraints, from, venerable, with, under, deutschlands,\n",
      "Nearest to while: when, although, however, but, though, where, arno, if,\n",
      "Nearest to and: or, but, of, excepting, methadone, however, in, including,\n",
      "Nearest to when: if, while, before, until, where, after, during, but,\n",
      "Nearest to also: now, sometimes, which, often, still, it, ta, usually,\n",
      "Average loss at step 52000: 3.440756\n",
      "Average loss at step 54000: 3.433280\n",
      "Average loss at step 56000: 3.436366\n",
      "Average loss at step 58000: 3.396300\n",
      "Average loss at step 60000: 3.393321\n",
      "Nearest to five: four, six, three, eight, seven, zero, nine, two,\n",
      "Nearest to such: well, known, regarded, these, many, weed, having, described,\n",
      "Nearest to so: too, nourished, if, overlords, chartres, sometimes, then, laurentian,\n",
      "Nearest to in: during, within, at, since, on, of, idiomatic, until,\n",
      "Nearest to not: never, now, you, undergoing, usually, akihito, bubbled, ping,\n",
      "Nearest to states: kingdom, countries, us, nations, panda, grounds, government, egypt,\n",
      "Nearest to eight: nine, six, four, seven, five, three, zero, two,\n",
      "Nearest to he: she, it, they, who, there, previously, ruth, eventually,\n",
      "Nearest to over: through, into, out, about, toil, between, around, halide,\n",
      "Nearest to d: b, purdue, haven, m, f, imr, olaf, circumcisions,\n",
      "Nearest to of: for, in, handwriting, original, mujahedin, although, ashe, vulture,\n",
      "Nearest to by: with, deutschlands, through, spotter, from, responds, aphorisms, was,\n",
      "Nearest to while: although, when, though, however, if, but, were, arno,\n",
      "Nearest to and: or, but, than, fetus, including, studd, methadone, konrad,\n",
      "Nearest to when: if, before, while, until, after, although, where, since,\n",
      "Nearest to also: now, often, sometimes, still, which, usually, it, never,\n",
      "Average loss at step 62000: 3.241681\n",
      "Average loss at step 64000: 3.256564\n",
      "Average loss at step 66000: 3.406691\n",
      "Average loss at step 68000: 3.396045\n",
      "Average loss at step 70000: 3.359795\n",
      "Nearest to five: six, four, eight, seven, zero, nine, three, two,\n",
      "Nearest to such: well, these, known, many, regarded, uncodified, weed, including,\n",
      "Nearest to so: too, nourished, sometimes, if, despotism, then, laurentian, trains,\n",
      "Nearest to in: within, during, on, for, toward, of, since, tallies,\n",
      "Nearest to not: never, now, undergoing, nato, plunging, still, generally, usually,\n",
      "Nearest to states: kingdom, countries, us, nations, state, grounds, panda, inclusive,\n",
      "Nearest to eight: nine, six, seven, five, four, zero, three, two,\n",
      "Nearest to he: she, it, they, there, then, who, ruth, we,\n",
      "Nearest to over: through, out, into, about, correlation, around, variable, up,\n",
      "Nearest to d: b, f, haven, imr, l, purdue, w, circumcisions,\n",
      "Nearest to of: including, original, for, and, in, menander, samoan, like,\n",
      "Nearest to by: through, deutschlands, flockhart, meditator, using, from, lymphatic, for,\n",
      "Nearest to while: although, when, however, though, and, if, where, but,\n",
      "Nearest to and: or, while, but, of, including, brahmins, through, however,\n",
      "Nearest to when: while, if, before, because, until, where, however, after,\n",
      "Nearest to also: now, still, which, often, sometimes, never, actually, usually,\n",
      "Average loss at step 72000: 3.372976\n",
      "Average loss at step 74000: 3.348719\n",
      "Average loss at step 76000: 3.318170\n",
      "Average loss at step 78000: 3.351679\n",
      "Average loss at step 80000: 3.372207\n",
      "Nearest to five: four, six, seven, eight, three, nine, zero, two,\n",
      "Nearest to such: well, these, known, weed, uncodified, regarded, many, certain,\n",
      "Nearest to so: too, when, if, nourished, kaist, hermas, sometimes, trains,\n",
      "Nearest to in: on, during, within, at, until, between, since, with,\n",
      "Nearest to not: never, still, usually, now, they, generally, undergoing, often,\n",
      "Nearest to states: kingdom, us, countries, nations, grounds, prudent, panda, state,\n",
      "Nearest to eight: nine, seven, six, five, four, three, zero, two,\n",
      "Nearest to he: she, it, they, there, who, we, never, ruth,\n",
      "Nearest to over: into, about, through, around, out, humayun, halide, toil,\n",
      "Nearest to d: b, f, l, e, carvalho, imr, purdue, circumcisions,\n",
      "Nearest to of: in, menander, original, zhang, limelight, including, philippines, handwriting,\n",
      "Nearest to by: moonshine, spotter, restraints, through, tds, advertisers, infractions, gondor,\n",
      "Nearest to while: although, however, but, when, though, and, or, honorably,\n",
      "Nearest to and: or, while, but, including, zane, konrad, melchior, mario,\n",
      "Nearest to when: before, if, while, after, though, where, during, because,\n",
      "Nearest to also: still, sometimes, often, now, which, never, actually, hanson,\n",
      "Average loss at step 82000: 3.410911\n",
      "Average loss at step 84000: 3.410699\n",
      "Average loss at step 86000: 3.389332\n",
      "Average loss at step 88000: 3.354974\n",
      "Average loss at step 90000: 3.363207\n",
      "Nearest to five: seven, eight, four, six, three, nine, zero, two,\n",
      "Nearest to such: well, known, these, weed, uncodified, regarded, racketeering, interpreted,\n",
      "Nearest to so: too, thus, hermas, pritchard, trains, when, if, radicals,\n",
      "Nearest to in: during, within, tren, lenders, at, under, incrimination, until,\n",
      "Nearest to not: still, never, undergoing, now, generally, usually, also, they,\n",
      "Nearest to states: kingdom, us, nations, panda, countries, prudent, nationalists, grounds,\n",
      "Nearest to eight: seven, nine, six, five, four, three, zero, two,\n",
      "Nearest to he: she, they, it, there, who, later, eventually, never,\n",
      "Nearest to over: about, into, out, around, thriller, off, almost, halide,\n",
      "Nearest to d: b, f, haven, l, turboprops, proximal, exposures, reuven,\n",
      "Nearest to of: menander, for, including, in, queue, during, handwriting, tennant,\n",
      "Nearest to by: through, with, against, without, moonshine, restraints, under, using,\n",
      "Nearest to while: when, although, though, but, however, were, during, before,\n",
      "Nearest to and: or, but, while, including, zane, than, in, methadone,\n",
      "Nearest to when: while, before, if, after, where, until, during, because,\n",
      "Nearest to also: often, still, sometimes, now, which, actually, never, generally,\n",
      "Average loss at step 92000: 3.394959\n",
      "Average loss at step 94000: 3.249715\n",
      "Average loss at step 96000: 3.362370\n",
      "Average loss at step 98000: 3.238286\n",
      "Average loss at step 100000: 3.360904\n",
      "Nearest to five: seven, six, four, eight, three, zero, nine, two,\n",
      "Nearest to such: well, known, these, weed, many, uncodified, differing, interpreted,\n",
      "Nearest to so: too, thus, sometimes, when, trains, if, bulgars, pritchard,\n",
      "Nearest to in: during, within, throughout, on, mcmanus, from, of, into,\n",
      "Nearest to not: never, still, undergoing, almost, generally, only, also, now,\n",
      "Nearest to states: kingdom, nations, countries, us, panda, prudent, dundas, state,\n",
      "Nearest to eight: seven, nine, six, four, five, three, zero, two,\n",
      "Nearest to he: she, it, they, there, who, we, eventually, never,\n",
      "Nearest to over: into, through, around, correlation, within, about, thriller, humayun,\n",
      "Nearest to d: b, helical, imr, barat, haven, billet, petri, sylvia,\n",
      "Nearest to of: including, original, in, pnp, and, expendable, menander, into,\n",
      "Nearest to by: through, honshu, moonshine, uefa, when, structuralist, under, without,\n",
      "Nearest to while: when, although, but, though, however, and, where, if,\n",
      "Nearest to and: or, but, like, while, including, when, although, of,\n",
      "Nearest to when: if, while, before, where, although, after, during, though,\n",
      "Nearest to also: now, actually, sometimes, often, never, still, frequently, usually,\n"
     ]
    }
   ],
   "source": [
    "num_steps = 100001\n",
    "\n",
    "with tf.Session(graph=graph) as session:\n",
    "  tf.initialize_all_variables().run()\n",
    "  print('Initialized')\n",
    "  average_loss = 0\n",
    "  for step in range(num_steps):\n",
    "    batch_data, batch_labels = generate_batch(\n",
    "      batch_size, num_skips, skip_window)\n",
    "    feed_dict = {train_dataset : batch_data, train_labels : batch_labels}\n",
    "    _, l = session.run([optimizer, loss], feed_dict=feed_dict)\n",
    "    average_loss += l\n",
    "    if step % 2000 == 0:\n",
    "      if step > 0:\n",
    "        average_loss = average_loss / 2000\n",
    "      # The average loss is an estimate of the loss over the last 2000 batches.\n",
    "      print('Average loss at step %d: %f' % (step, average_loss))\n",
    "      average_loss = 0\n",
    "    # note that this is expensive (~20% slowdown if computed every 500 steps)\n",
    "    if step % 10000 == 0:\n",
    "      sim = similarity.eval()\n",
    "      for i in xrange(valid_size):\n",
    "        valid_word = reverse_dictionary[valid_examples[i]]\n",
    "        top_k = 8 # number of nearest neighbors\n",
    "        nearest = (-sim[i, :]).argsort()[1:top_k+1]\n",
    "        log = 'Nearest to %s:' % valid_word\n",
    "        for k in xrange(top_k):\n",
    "          close_word = reverse_dictionary[nearest[k]]\n",
    "          log = '%s %s,' % (log, close_word)\n",
    "        print(log)\n",
    "  final_embeddings = normalized_embeddings.eval()"
   ]
  },
  {
   "cell_type": "code",
   "execution_count": 8,
   "metadata": {
    "cellView": "both",
    "colab": {
     "autoexec": {
      "startup": false,
      "wait_interval": 0
     }
    },
    "colab_type": "code",
    "collapsed": true,
    "id": "jjJXYA_XzV79"
   },
   "outputs": [],
   "source": [
    "num_points = 400\n",
    "\n",
    "tsne = TSNE(perplexity=30, n_components=2, init='pca', n_iter=5000)\n",
    "two_d_embeddings = tsne.fit_transform(final_embeddings[1:num_points+1, :])"
   ]
  },
  {
   "cell_type": "code",
   "execution_count": 9,
   "metadata": {
    "cellView": "both",
    "colab": {
     "autoexec": {
      "startup": false,
      "wait_interval": 0
     },
     "output_extras": [
      {
       "item_id": 1
      }
     ]
    },
    "colab_type": "code",
    "collapsed": false,
    "executionInfo": {
     "elapsed": 4763,
     "status": "ok",
     "timestamp": 1445965465525,
     "user": {
      "color": "#1FA15D",
      "displayName": "Vincent Vanhoucke",
      "isAnonymous": false,
      "isMe": true,
      "permissionId": "05076109866853157986",
      "photoUrl": "//lh6.googleusercontent.com/-cCJa7dTDcgQ/AAAAAAAAAAI/AAAAAAAACgw/r2EZ_8oYer4/s50-c-k-no/photo.jpg",
      "sessionId": "2f1ffade4c9f20de",
      "userId": "102167687554210253930"
     },
     "user_tz": 420
    },
    "id": "o_e0D_UezcDe",
    "outputId": "df22e4a5-e8ec-4e5e-d384-c6cf37c68c34"
   },
   "outputs": [],
   "source": [
    "def plot(embeddings, labels):\n",
    "  assert embeddings.shape[0] >= len(labels), 'More labels than embeddings'\n",
    "  pylab.figure(figsize=(15,15))  # in inches\n",
    "  for i, label in enumerate(labels):\n",
    "    x, y = embeddings[i,:]\n",
    "    pylab.scatter(x, y)\n",
    "    pylab.annotate(label, xy=(x, y), xytext=(5, 2), textcoords='offset points',\n",
    "                   ha='right', va='bottom')\n",
    "  pylab.show()\n",
    "\n",
    "words = [reverse_dictionary[i] for i in range(1, num_points+1)]\n",
    "plot(two_d_embeddings, words)"
   ]
  },
  {
   "cell_type": "markdown",
   "metadata": {
    "colab_type": "text",
    "id": "QB5EFrBnpNnc"
   },
   "source": [
    "---\n",
    "\n",
    "Problem\n",
    "-------\n",
    "\n",
    "An alternative to Word2Vec is called [CBOW](http://arxiv.org/abs/1301.3781) (Continuous Bag of Words). In the CBOW model, instead of predicting a context word from a word vector, you predict a word from the sum of all the word vectors in its context. Implement and evaluate a CBOW model trained on the text8 dataset.\n",
    "\n",
    "---"
   ]
  }
 ],
 "metadata": {
  "colab": {
   "default_view": {},
   "name": "5_word2vec.ipynb",
   "provenance": [],
   "version": "0.3.2",
   "views": {}
  },
  "kernelspec": {
   "display_name": "Python 2",
   "language": "python",
   "name": "python2"
  },
  "language_info": {
   "codemirror_mode": {
    "name": "ipython",
    "version": 2
   },
   "file_extension": ".py",
   "mimetype": "text/x-python",
   "name": "python",
   "nbconvert_exporter": "python",
   "pygments_lexer": "ipython2",
   "version": "2.7.11"
  }
 },
 "nbformat": 4,
 "nbformat_minor": 0
}
